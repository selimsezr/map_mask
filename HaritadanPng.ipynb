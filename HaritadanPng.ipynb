{
  "nbformat": 4,
  "nbformat_minor": 0,
  "metadata": {
    "colab": {
      "provenance": [],
      "authorship_tag": "ABX9TyMZU23Bh/2I2QUaWVom3dXn",
      "include_colab_link": true
    },
    "kernelspec": {
      "name": "python3",
      "display_name": "Python 3"
    },
    "language_info": {
      "name": "python"
    }
  },
  "cells": [
    {
      "cell_type": "markdown",
      "metadata": {
        "id": "view-in-github",
        "colab_type": "text"
      },
      "source": [
        "<a href=\"https://colab.research.google.com/github/selimsezr/map_mask/blob/main/HaritadanPng.ipynb\" target=\"_parent\"><img src=\"https://colab.research.google.com/assets/colab-badge.svg\" alt=\"Open In Colab\"/></a>"
      ]
    },
    {
      "cell_type": "code",
      "source": [
        "Setups"
      ],
      "metadata": {
        "id": "kqN8kHReA4_-"
      },
      "execution_count": null,
      "outputs": []
    },
    {
      "cell_type": "code",
      "execution_count": null,
      "metadata": {
        "id": "_NGVkSO1zQx4"
      },
      "outputs": [],
      "source": [
        "!sudo su python3 -m pip install --upgrade pip\n",
        "!pip install --upgrade pillow\n",
        "!pip install rembg\n",
        "from rembg import remove\n",
        "from PIL import Image\n",
        "import urllib.request"
      ]
    },
    {
      "cell_type": "code",
      "source": [
        "Mapbox static image API link"
      ],
      "metadata": {
        "id": "cBih7uO5A8NX"
      },
      "execution_count": null,
      "outputs": []
    },
    {
      "cell_type": "code",
      "source": [
        "import Image\n",
        "input_path = 'input.jpeg'\n",
        "urllib.request.urlretrieve('https://api.mapbox.com/styles/v1/mapbox/satellite-v9/static/geojson(%7B%22type%22%3A%22Feature%22%2C%22properties%22%3A%7B%22fill%22%3A%20%22%238E24AA%22%2C%22fill-opacity%22%3A1%2C%20%22stroke%22%3A%20%22%238E24AA%22%7D%2C%22geometry%22%3A%7B%22type%22%3A%22MultiPolygon%22%2C%22coordinates%22%3A%5B%5B%5B%5B26.4327124%2C40.1445506%2C9.2%5D%2C%5B26.4351864%2C40.1428911%2C9.2%5D%2C%5B26.4623395%2C40.160564%2C69.2%5D%2C%5B26.4949442%2C40.1817651%2C159.2%5D%2C%5B26.5711111%2C40.2312071%2C159.2%5D%2C%5B26.5288135%2C40.2595371%2C159.2%5D%2C%5B26.4749625%2C40.1951597%2C159.2%5D%2C%5B26.4519103%2C40.1675576%2C69.2%5D%2C%5B26.4327124%2C40.1445506%2C9.2%5D%5D%5D%2C%5B%5B%5B26.4161154%2C40.1261414%2C6.11%5D%2C%5B26.413642%2C40.1278009%2C6.11%5D%2C%5B26.3865123%2C40.1101229%2C66.11%5D%2C%5B26.3539775%2C40.0889029%2C156.11%5D%2C%5B26.2781516%2C40.0393627%2C156.11%5D%2C%5B26.3203129%2C40.0110316%2C156.11%5D%2C%5B26.3739281%2C40.075508%2C156.11%5D%2C%5B26.3969327%2C40.1031291%2C66.11%5D%2C%5B26.4161154%2C40.1261414%2C6.11%5D%5D%5D%5D%7D%7D)/26.4237,40.1320,11.70,0/900x600?access_token=TOKEN', input_path)\n",
        "input = Image.open(input_path)"
      ],
      "metadata": {
        "id": "1R5NgEVwz1EG"
      },
      "execution_count": null,
      "outputs": []
    },
    {
      "cell_type": "code",
      "source": [
        "!pip install opencv-contrib-python\n",
        "!pip install numpy\n",
        "!sudo apt-get install tesseract-ocr\n",
        "!pip install pytesseract==0.3.9"
      ],
      "metadata": {
        "colab": {
          "base_uri": "https://localhost:8080/"
        },
        "id": "vz2Ql6lrBaSM",
        "outputId": "ca67948c-2a0b-41ae-f329-7e84f67f718c"
      },
      "execution_count": 25,
      "outputs": [
        {
          "output_type": "stream",
          "name": "stdout",
          "text": [
            "Looking in indexes: https://pypi.org/simple, https://us-python.pkg.dev/colab-wheels/public/simple/\n",
            "Requirement already satisfied: opencv-contrib-python in /usr/local/lib/python3.8/dist-packages (4.6.0.66)\n",
            "Requirement already satisfied: numpy>=1.17.3 in /usr/local/lib/python3.8/dist-packages (from opencv-contrib-python) (1.23.5)\n",
            "Looking in indexes: https://pypi.org/simple, https://us-python.pkg.dev/colab-wheels/public/simple/\n",
            "Requirement already satisfied: numpy in /usr/local/lib/python3.8/dist-packages (1.23.5)\n",
            "Reading package lists... Done\n",
            "Building dependency tree       \n",
            "Reading state information... Done\n",
            "tesseract-ocr is already the newest version (4.1.1-2build2).\n",
            "The following package was automatically installed and is no longer required:\n",
            "  libnvidia-common-510\n",
            "Use 'sudo apt autoremove' to remove it.\n",
            "0 upgraded, 0 newly installed, 0 to remove and 27 not upgraded.\n",
            "Looking in indexes: https://pypi.org/simple, https://us-python.pkg.dev/colab-wheels/public/simple/\n",
            "Collecting pytesseract==0.3.9\n",
            "  Downloading pytesseract-0.3.9-py2.py3-none-any.whl (14 kB)\n",
            "Requirement already satisfied: packaging>=21.3 in /usr/local/lib/python3.8/dist-packages (from pytesseract==0.3.9) (23.0)\n",
            "Requirement already satisfied: Pillow>=8.0.0 in /usr/local/lib/python3.8/dist-packages (from pytesseract==0.3.9) (9.3.0)\n",
            "Installing collected packages: pytesseract\n",
            "Successfully installed pytesseract-0.3.9\n"
          ]
        }
      ]
    },
    {
      "cell_type": "code",
      "source": [
        "import cv2\n",
        "import numpy as np\n",
        "from google.colab.patches import cv2_imshow\n",
        "from PIL import Image\n",
        "import matplotlib.pyplot as plt\n",
        "\n",
        "# Resmi oku\n",
        "img = cv2.imread(\"input.jpeg\", cv2.IMREAD_UNCHANGED)\n",
        "\n",
        "# HSV'ye dönüştür\n",
        "hsv = cv2.cvtColor(img, cv2.COLOR_BGR2HSV)\n",
        "\n",
        "# Renk aralığını belirle (pembe)\n",
        "lower_range = np.array([140, 50, 50])\n",
        "upper_range = np.array([180, 255, 255])\n",
        "\n",
        "# Renk aralığına göre maske oluştur\n",
        "mask = cv2.inRange(hsv, lower_range, upper_range)\n",
        "\n",
        "# RGBA formatında bir görüntü oluştur\n",
        "result = np.zeros((img.shape[0], img.shape[1], 4), np.uint8)\n",
        "\n",
        "# Maske'yi kullanarak pembe bölgeyi RGBA formatında içeren görüntü oluştur\n",
        "result[mask != 0, :3] = img[mask != 0]\n",
        "result[mask != 0, 3] = 255\n",
        "\n",
        "# Sonuçları kaydet\n",
        "cv2.imwrite(\"sonuc.png\", result)"
      ],
      "metadata": {
        "colab": {
          "base_uri": "https://localhost:8080/"
        },
        "id": "HFymb87cwDvn",
        "outputId": "4a82d222-cb4b-4953-9e3a-1fa2d31aeb2c"
      },
      "execution_count": 29,
      "outputs": [
        {
          "output_type": "execute_result",
          "data": {
            "text/plain": [
              "True"
            ]
          },
          "metadata": {},
          "execution_count": 29
        }
      ]
    }
  ]
}